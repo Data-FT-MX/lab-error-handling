{
 "cells": [
  {
   "cell_type": "code",
   "execution_count": 48,
   "id": "b9de7da2",
   "metadata": {},
   "outputs": [],
   "source": [
    "import string \n",
    "minusculas = string.ascii_lowercase   # O si prefieres pones \"abcde...z\" que es lo mismo\n",
    "mayusculas = string.ascii_uppercase   # \"ABCDE...Z\"\n",
    "\n",
    "def encrypt_this(text):\n",
    "    output=text.split(' ')\n",
    "    mensaje_final = []\n",
    "    \n",
    "    for i in output:\n",
    "        if len(i) == 1:\n",
    "            mensaje_final.append(letra_a_codigo(i))\n",
    "            \n",
    "        elif len(i) > 1:\n",
    "            print('Entrando 2')\n",
    "            mensaje_final = 'Print'\n",
    "        \n",
    "    return mensaje_final\n",
    "\n",
    "\n",
    "\n",
    "#Funcion para conocer codigos ASCCI\n",
    "def letra_a_codigo(letra):\n",
    "    if letra in minusculas:\n",
    "        return minusculas.index(letra) + 97\n",
    "    if letra in mayusculas:\n",
    "        return mayusculas.index(letra) + 65\n",
    "    \n",
    "    \n"
   ]
  },
  {
   "cell_type": "code",
   "execution_count": 49,
   "id": "edd30a10",
   "metadata": {},
   "outputs": [
    {
     "name": "stdout",
     "output_type": "stream",
     "text": [
      "Entrando\n",
      "Entrando 2\n",
      "Entrando 2\n",
      "Entrando 2\n",
      "Entrando 2\n",
      "Entrando 2\n",
      "Entrando 2\n",
      "Entrando 2\n"
     ]
    },
    {
     "data": {
      "text/plain": [
       "'Print'"
      ]
     },
     "execution_count": 49,
     "metadata": {},
     "output_type": "execute_result"
    }
   ],
   "source": [
    "text = 'A wise old owl lived in an oak'\n",
    "encrypt_this(text)"
   ]
  },
  {
   "cell_type": "code",
   "execution_count": 15,
   "id": "71d7d133",
   "metadata": {},
   "outputs": [
    {
     "data": {
      "text/plain": [
       "119"
      ]
     },
     "execution_count": 15,
     "metadata": {},
     "output_type": "execute_result"
    }
   ],
   "source": [
    "letra_a_codigo('w')"
   ]
  },
  {
   "cell_type": "code",
   "execution_count": 16,
   "id": "fc0c863d",
   "metadata": {},
   "outputs": [
    {
     "ename": "TypeError",
     "evalue": "index() takes at least 1 argument (0 given)",
     "output_type": "error",
     "traceback": [
      "\u001b[1;31m---------------------------------------------------------------------------\u001b[0m",
      "\u001b[1;31mTypeError\u001b[0m                                 Traceback (most recent call last)",
      "\u001b[1;32m<ipython-input-16-9638ce2d8bf9>\u001b[0m in \u001b[0;36m<module>\u001b[1;34m\u001b[0m\n\u001b[1;32m----> 1\u001b[1;33m \u001b[0mtext\u001b[0m\u001b[1;33m.\u001b[0m\u001b[0mindex\u001b[0m\u001b[1;33m(\u001b[0m\u001b[1;33m)\u001b[0m\u001b[1;33m\u001b[0m\u001b[1;33m\u001b[0m\u001b[0m\n\u001b[0m",
      "\u001b[1;31mTypeError\u001b[0m: index() takes at least 1 argument (0 given)"
     ]
    }
   ],
   "source": [
    "text.index()"
   ]
  }
 ],
 "metadata": {
  "kernelspec": {
   "display_name": "Python 3",
   "language": "python",
   "name": "python3"
  },
  "language_info": {
   "codemirror_mode": {
    "name": "ipython",
    "version": 3
   },
   "file_extension": ".py",
   "mimetype": "text/x-python",
   "name": "python",
   "nbconvert_exporter": "python",
   "pygments_lexer": "ipython3",
   "version": "3.8.8"
  }
 },
 "nbformat": 4,
 "nbformat_minor": 5
}
